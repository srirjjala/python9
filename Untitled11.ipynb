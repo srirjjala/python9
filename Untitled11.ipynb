{
 "cells": [
  {
   "cell_type": "code",
   "execution_count": 12,
   "id": "7cb2b618",
   "metadata": {},
   "outputs": [
    {
     "name": "stdout",
     "output_type": "stream",
     "text": [
      "['s', 's', 'r', 'r', 'j']\n"
     ]
    }
   ],
   "source": [
    "l = []\n",
    "s = \"saisriraj\"\n",
    "vowels = ['a', 'e', 'i', 'o', 'u']  # Initialize the vowels list once\n",
    "for i in s:\n",
    "    if i not in vowels: \n",
    "        l.append(i)  \n",
    "\n",
    "print(l)\n"
   ]
  },
  {
   "cell_type": "code",
   "execution_count": 15,
   "id": "b4a7cf89",
   "metadata": {},
   "outputs": [
    {
     "name": "stdout",
     "output_type": "stream",
     "text": [
      "[1, 2, 3]\n"
     ]
    }
   ],
   "source": [
    "l=[1,2,3,1,2,3]\n",
    "j=set(l)\n",
    "k=list(j)\n",
    "print(sorted(k))"
   ]
  },
  {
   "cell_type": "code",
   "execution_count": 17,
   "id": "a3341a7c",
   "metadata": {},
   "outputs": [
    {
     "name": "stdout",
     "output_type": "stream",
     "text": [
      "{3, 4, 5}\n"
     ]
    }
   ],
   "source": [
    "list1 = [1, 2, 3, 4, 5]\n",
    "list2 = [3, 4, 5, 6, 7]\n",
    "j=set(list1)\n",
    "k=set(list2)\n",
    "print(j.intersection(k))"
   ]
  },
  {
   "cell_type": "code",
   "execution_count": 18,
   "id": "9c91d3d2",
   "metadata": {},
   "outputs": [
    {
     "name": "stdout",
     "output_type": "stream",
     "text": [
      "{'h': 1, 'e': 1, 'l': 3, 'o': 2, 'w': 1, 'r': 1, 'd': 1}\n"
     ]
    }
   ],
   "source": [
    "def character_frequency(s):\n",
    "    frequency_dict = {}\n",
    "    for char in s:\n",
    "        if char != ' ':  # Ignore spaces\n",
    "            if char in frequency_dict:\n",
    "                frequency_dict[char] += 1\n",
    "            else:\n",
    "                frequency_dict[char] = 1\n",
    "    return frequency_dict\n",
    "\n",
    "# Example usage:\n",
    "s = \"hello world\"\n",
    "print(character_frequency(s))\n"
   ]
  },
  {
   "cell_type": "code",
   "execution_count": 32,
   "id": "4c513ef0",
   "metadata": {},
   "outputs": [
    {
     "name": "stdout",
     "output_type": "stream",
     "text": [
      "enter the target value3\n",
      "[1, 5, 7, 9]\n"
     ]
    }
   ],
   "source": [
    "lst = [1, 3, 5, 3, 7, 3, 9]\n",
    "K=[]\n",
    "target=int(input(\"enter the target value\"))\n",
    "for j in lst:\n",
    "    if(target!=j):\n",
    "        K.append(j)\n",
    "print(K)\n"
   ]
  },
  {
   "cell_type": "code",
   "execution_count": 33,
   "id": "c7800011",
   "metadata": {},
   "outputs": [
    {
     "name": "stdout",
     "output_type": "stream",
     "text": [
      "{3, 4, 5}\n",
      "{1, 2, 3, 4, 5, 6, 7}\n"
     ]
    }
   ],
   "source": [
    "set1 = {1, 2, 3, 4, 5}\n",
    "set2 = {3, 4, 5, 6, 7}\n",
    "print(set1.intersection(set2))\n",
    "print(set1.union(set2))"
   ]
  },
  {
   "cell_type": "code",
   "execution_count": 36,
   "id": "ad6ebc4a",
   "metadata": {},
   "outputs": [
    {
     "name": "stdout",
     "output_type": "stream",
     "text": [
      "[' ', ' ', ' ', ' ', 'a', 'd', 'e', 'e', 'h', 'h', 'l', 'l', 'l', 'o', 'o', 'o', 'o', 'r', 'r', 'u', 'w', 'w', 'y']\n"
     ]
    }
   ],
   "source": [
    "sentence = \"hello world how are you\"\n",
    "l=[]\n",
    "l=list(sentence)\n",
    "print(sorted(l))"
   ]
  },
  {
   "cell_type": "code",
   "execution_count": 39,
   "id": "fa143969",
   "metadata": {},
   "outputs": [
    {
     "name": "stdout",
     "output_type": "stream",
     "text": [
      "['are', 'hello', 'how', 'world', 'you']\n"
     ]
    }
   ],
   "source": [
    "sentence = \"hello world how are you\"\n",
    "l=[]\n",
    "w=sentence.split()\n",
    "l=list(w)\n",
    "print(sorted(l))"
   ]
  },
  {
   "cell_type": "code",
   "execution_count": 42,
   "id": "549ef8c7",
   "metadata": {},
   "outputs": [
    {
     "name": "stdout",
     "output_type": "stream",
     "text": [
      "enter the stringamma\n"
     ]
    }
   ],
   "source": [
    "s=str(input(\"enter the string\"))\n",
    "c=0\n",
    "l=['a','e','i','o','u']\n",
    "if s.lower in l:\n",
    "    c=c+1\n",
    "    print(c)\n",
    "    "
   ]
  },
  {
   "cell_type": "code",
   "execution_count": 43,
   "id": "a7258491",
   "metadata": {},
   "outputs": [
    {
     "name": "stdout",
     "output_type": "stream",
     "text": [
      "Enter the string: amma\n",
      "Number of vowels: 2\n"
     ]
    }
   ],
   "source": [
    "s = input(\"Enter the string: \")\n",
    "c = 0\n",
    "vowels = ['a', 'e', 'i', 'o', 'u']\n",
    "for char in s:\n",
    "    if char.lower() in vowels: \n",
    "        c += 1\n",
    "print(\"Number of vowels:\", c)\n"
   ]
  },
  {
   "cell_type": "code",
   "execution_count": 44,
   "id": "1cbbec0f",
   "metadata": {},
   "outputs": [
    {
     "name": "stdout",
     "output_type": "stream",
     "text": [
      "{1, 2, 3, 4, 5, 6}\n"
     ]
    }
   ],
   "source": [
    "nums = [1, 2, 3, 2, 4, 5, 6, 1]\n",
    "j=set(nums)\n",
    "print(j)"
   ]
  },
  {
   "cell_type": "code",
   "execution_count": 46,
   "id": "7a04c8db",
   "metadata": {},
   "outputs": [
    {
     "name": "stdout",
     "output_type": "stream",
     "text": [
      "[',', 'apple', 'banana,orange,', 'grapefruit,', 'watermelon']\n"
     ]
    }
   ],
   "source": [
    "sentence = \"apple ,banana,orange,   grapefruit, watermelon\"\n",
    "l=[]\n",
    "l=sentence.split()\n",
    "print(sorted(l))"
   ]
  },
  {
   "cell_type": "code",
   "execution_count": 53,
   "id": "1aab3f93",
   "metadata": {},
   "outputs": [
    {
     "name": "stdout",
     "output_type": "stream",
     "text": [
      "enter the value of a7\n",
      "3 4\n",
      "3 4\n",
      "3 4\n",
      "5 2\n",
      "4 3\n",
      "9 -2\n",
      "9 -2\n"
     ]
    }
   ],
   "source": [
    "a=int(input(\"enter the value of a\"))\n",
    "j=[]\n",
    "s=[]\n",
    "nums = [2, 4, 3, 5, 6, -2, 4, 7, 8, 9]\n",
    "j=nums[::-1]\n",
    "for i in nums:\n",
    "    for k in j:\n",
    "        if(nums[i]+j[k]==a):\n",
    "          print(nums[i],j[k])"
   ]
  },
  {
   "cell_type": "code",
   "execution_count": 55,
   "id": "8a486f4a",
   "metadata": {},
   "outputs": [
    {
     "name": "stdout",
     "output_type": "stream",
     "text": [
      "-120\n"
     ]
    }
   ],
   "source": [
    "nums = [-10, -3, 5, 2, 7, 1, 8, -2, -4]\n",
    "j=sorted(nums)\n",
    "k=j[0]*j[1]*j[2]\n",
    "print(k)"
   ]
  },
  {
   "cell_type": "code",
   "execution_count": null,
   "id": "5a4e8619",
   "metadata": {},
   "outputs": [],
   "source": []
  }
 ],
 "metadata": {
  "kernelspec": {
   "display_name": "Python 3 (ipykernel)",
   "language": "python",
   "name": "python3"
  },
  "language_info": {
   "codemirror_mode": {
    "name": "ipython",
    "version": 3
   },
   "file_extension": ".py",
   "mimetype": "text/x-python",
   "name": "python",
   "nbconvert_exporter": "python",
   "pygments_lexer": "ipython3",
   "version": "3.11.5"
  }
 },
 "nbformat": 4,
 "nbformat_minor": 5
}
